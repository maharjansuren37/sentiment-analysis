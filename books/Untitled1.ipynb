{
 "cells": [
  {
   "cell_type": "code",
   "execution_count": 13,
   "metadata": {},
   "outputs": [],
   "source": [
    "#Load text\n",
    "filename = 'negative.review'\n",
    "file = open(filename, 'rt')\n",
    "text = file.read()\n",
    "file.close()"
   ]
  },
  {
   "cell_type": "code",
   "execution_count": 14,
   "metadata": {},
   "outputs": [
    {
     "name": "stdout",
     "output_type": "stream",
     "text": [
      "['<review>', '<unique_id>', '0312355645:horrible_book,_horrible.:mark_gospri', '</unique_id>', '<asin>', '0312355645', '</asin>', '<product_name>', 'Running', 'with', 'Scissors:', 'A', 'Memoir:', 'Books:', 'Augusten', 'Burroughs', '</product_name>', '<product_type>', 'books', '</product_type>', '<helpful>', '4', 'of', '9', '</helpful>', '<rating>', '1.0', '</rating>', '<title>', 'Horrible', 'book,', 'horrible.', '</title>', '<date>', 'November', '14,', '2006', '</date>', '<reviewer>', 'Mark', 'Gospri', '</reviewer>', '<reviewer_location>', '</reviewer_location>', '<review_text>', 'THis', 'book', 'was', 'horrible.', 'If', 'it', 'was', 'possible', 'to', 'rate', 'it', 'lower', 'than', 'one', 'star', 'i', 'would', 'have.', 'I', 'am', 'an', 'avid', 'reader', 'and', 'picked', 'this', 'book', 'up', 'after', 'my', 'mom', 'had', 'gotten', 'it', 'from', 'a', 'friend.', 'I', 'read', 'half', 'of', 'it,', 'suffering', 'from', 'a', 'headache', 'the', 'entire', 'time,', 'and', 'then', 'got', 'to', 'the', 'part', 'about', 'the', 'relationship', 'the', '13', 'year', 'old', 'boy', 'had', 'with', 'a', '33', 'year', 'old', 'man', 'and', 'i', 'lit', 'this', 'book', 'on', 'fire.', 'One', 'less', 'copy', 'in', 'the', \"world...don't\", 'waste', 'your', 'money.', 'I', 'wish', 'i', 'had', 'the', 'time', 'spent', 'reading', 'this', 'book', 'back', 'so', 'i', 'could', 'use', 'it', 'for', 'better', 'purposes.', 'THis', 'book', 'wasted', 'my', 'life', '</review_text>', '</review>', '<review>', '<unique_id>', '1559278676:shallow_self-indulgence:joseph_s._perrott_\"avid_reader\"', '</unique_id>', '<asin>', '1559278676', '</asin>', '<product_name>', 'Running', 'with', 'Scissors:', 'A', 'Memoir:', 'Books:', 'Augusten', 'Burroughs', '</product_name>', '<product_type>', 'books', '</product_type>', '<helpful>', '1', 'of', '6', '</helpful>', '<rating>', '1.0', '</rating>', '<title>', 'shallow', 'self-indulgence', '</title>', '<date>', 'November', '15,', '2006', '</date>', '<reviewer>', 'Joseph', 'S.', 'Perrott', '\"avid', 'reader\"', '</reviewer>', '<reviewer_location>', 'philadelphia,', 'pa.', 'United', 'States', '</reviewer_location>', '<review_text>', 'I', 'like', 'to', 'use', 'the', 'Amazon', 'reviews', 'when', 'purchasing', 'books,', 'especially', 'alert', 'for', 'dissenting', 'perceptions', 'about', 'higly', 'rated', 'items,', 'which', 'usually', 'disuades', 'me', 'from', 'a', 'selection.', 'So', 'I', 'offer', 'this', 'review', 'that', 'seriously', 'questions', 'the', 'popularity', 'of', 'this', 'work', '-', 'I', 'found', 'it', 'smug,', 'self-serving', 'and', 'self-indulgent,', 'written', 'by', 'a', 'person', 'with', 'little', 'or', 'no', 'empathy,', 'especially', 'for', 'the', 'people', 'he', 'castigates.', 'For', 'example,', 'his', 'portrayal', 'of', 'the', 'family', 'therapist', 'seems', 'implausible', 'and', 'reaches', 'for', 'effect', 'and', 'panders', 'to', 'the', '\"shrink\"', 'bashers', 'of', 'the', 'world.', 'This', '\"play', 'for', 'effect\"', 'tone', 'throughout', 'the', 'book', 'was', 'very', 'distasteful', 'to', 'me', '</review_text>', '</review>', '<review>', '<unique_id>', '1559278676:horrible_book,_horrible.:mark_gospri', '</unique_id>', '<asin>', '1559278676', '</asin>', '<product_name>', 'Running', 'with', 'Scissors:', 'A', 'Memoir:', 'Books:', 'Augusten', 'Burroughs', '</product_name>', '<product_type>', 'books', '</product_type>', '<helpful>', '4', 'of', '9', '</helpful>', '<rating>', '1.0', '</rating>', '<title>', 'Horrible', 'book,', 'horrible.', '</title>', '<date>', 'November', '14,', '2006', '</date>', '<reviewer>', 'Mark', 'Gospri', '</reviewer>', '<reviewer_location>', '</reviewer_location>', '<review_text>', 'THis', 'book', 'was', 'horrible.', 'If', 'it', 'was', 'possible', 'to', 'rate', 'it', 'lower', 'than', 'one', 'star', 'i', 'would', 'have.', 'I', 'am', 'an', 'avid', 'reader', 'and', 'picked', 'this', 'book', 'up', 'after', 'my', 'mom', 'had', 'gotten', 'it', 'from', 'a', 'friend.', 'I', 'read', 'half', 'of', 'it,', 'suffering', 'from', 'a', 'headache', 'the', 'entire', 'time,', 'and', 'then', 'got', 'to', 'the', 'part', 'about', 'the', 'relationship', 'the', '13', 'year', 'old', 'boy', 'had', 'with', 'a', '33', 'year', 'old', 'man', 'and', 'i', 'lit', 'this', 'book', 'on', 'fire.', 'One', 'less', 'copy', 'in', 'the', \"world...don't\", 'waste', 'your', 'money.', 'I', 'wish', 'i', 'had', 'the', 'time', 'spent', 'reading', 'this', 'book', 'back', 'so', 'i', 'could', 'use', 'it', 'for', 'better', 'purposes.', 'THis', 'book', 'wasted', 'my', 'life', '</review_text>', '</review>', '<review>', '<unique_id>', '0425193373:disappointment:reader_\"reader\"', '</unique_id>', '<asin>', '0425193373', '</asin>', '<product_name>', 'Fierce', 'Conversations:', 'Achieving', 'Sucess', 'at', 'Work', 'and', 'in', 'Life', 'One', 'Conversation', 'at', 'a', 'Time:', 'Books:', 'Susan', 'Scott', '</product_name>', '<product_type>', 'books', '</product_type>', '<helpful>', '10', 'of', '13', '</helpful>', '<rating>', '1.0', '</rating>', '<title>', 'Disappointment', '</title>', '<date>', 'March', '13,', '2006', '</date>', '<reviewer>', 'Reader', '\"Reader\"', '</reviewer>', '<reviewer_location>', '</reviewer_location>', '<review_text>', \"I'm\", 'not', 'sure', \"who's\", 'writing', 'these', 'reviews,', 'but', 'I', 'read', 'repitition', 'after', 'repitition', 'after', 'repitition,', 'with', 'a', 'lot', 'of', 'confusing', 'fluff.', 'Asking', 'hard', 'questions', 'to', 'solve', 'complex', 'or', 'simple', 'issues.', \"What's\", '\"fierce\"', 'about', 'that?', 'The', 'writing', 'style', 'and', 'content', 'just', \"didn't\", 'flow.', \"Wasn't\", 'real.', 'I', 'mean,', 'in', 'one', 'section,', 'she', 'actually', 'uses', 'the', 'term', '\"bucko,\"', 'as', 'in,', '\"Let', 'me', 'tell', 'you', 'something,', 'bucko.\"', 'What', 'are', 'we', 'in', '\"Happy', 'Days?\"', \"Couldn't\", 'take', 'the', 'book', 'seriously', 'after', 'that.', 'Very', 'bad.', '</review_text>', '</review>', '<review>', '<unique_id>', '0142004030:a_disappointing_mess:a._ross', '</unique_id>', '<asin>', '0142004030', '</asin>', '<product_name>', 'Lost', 'in', 'a', 'Good', 'Book', '(Thursday', 'Next', 'Novels):', 'Books:', 'Jasper', 'Fforde', '</product_name>', '<product_type>', 'books', '</product_type>', '<helpful>', '6', 'of', '7', '</helpful>', '<rating>', '2.0', '</rating>', '<title>', 'A', 'Disappointing', 'Mess', '</title>', '<date>', 'May', '17,', '2006', '</date>', '<reviewer>', 'A.', 'Ross', '</reviewer>', '<reviewer_location>', 'Washington,', 'DC', '</reviewer_location>', '<review_text>', 'I', 'picked', 'up', 'the', 'first', 'book', 'in', 'this', 'series', '(The', 'Eyre', 'Affair)', 'based', 'purely', 'on', 'its', 'premise', 'and', 'was', 'left', 'somewhat', 'underwhelmed.', 'Still,', 'the', 'potential', 'for', 'the', 'series', 'seemed', 'so', 'large', 'that', 'I', 'went', 'ahead', 'and', 'read', 'this', 'second', 'one', 'too,', 'only', 'to', 'be', 'even', 'less', 'enchanted', 'with', 'the', 'franchise.', 'This', 'is', 'a', 'pure', 'sequel,', 'and', 'any', 'newcomers', 'are', 'advised', 'to', 'read', 'the', 'misadventures', 'of', 'Thursday', 'Next', 'is', 'strict', 'order,', 'lest', 'one', 'miss', 'out', 'of', 'allusions', 'to', 'past', 'events.', 'Although...', 'on', 'further', 'consideration,', 'maybe', 'it', \"doesn't\", 'matter,', 'since', 'clearly', 'anything', 'can', 'and', 'will', 'happen', 'in', 'this', 'series,', 'and', 'Fforde', \"isn't\", 'all', 'that', 'interested', 'in', 'keeping', 'to', 'a', 'linear', 'plotline', 'anyway.', 'The', 'setting', 'is', 'the', 'same', 'as', 'the', 'first', 'book,', 'an', 'alternate', 'mid-1980s', 'England', 'in', 'which', 'literature', 'is', 'the', 'preeminent', 'social', 'preoccupation.', 'Fresh', 'off', 'the', 'events', 'of', '\"The', 'Eyre', 'Affair\",', 'Thursday', 'Next', '(a', 'police', 'officer', 'specializing', 'in', 'literature', 'related', 'crimes,', 'such', 'as', 'first-edition', 'forgeries,', 'valuable', 'manuscript', 'thefts,', 'and', 'the', 'like)', 'is', 'gritting', 'her', 'teeth', 'through', 'a', 'new', 'round', 'of', 'fame', 'as', 'the', 'woman', 'who', 'saved', 'Jane', 'Eyre', '(and', 'changed', 'the', 'ending', 'for', 'the', 'better),', 'when', 'all', 'she', 'wants', 'to', 'do', 'is', 'cuddle', 'up', 'at', 'home', 'with', 'her', 'new', 'husband', 'Landen.', 'Unfortunately,', 'the', 'evil', 'Goliath', 'Corporation', 'has', 'managed', 'to', 'use', 'a', 'corrupt', 'member', 'of', 'the', 'Chronogaurd', '(timestream', 'police)', 'to', 'delete', 'Landen', 'from', 'this', 'timeline', 'and', 'are', 'holding', 'his', 'existence', 'hostage.', 'In', 'the', 'first', 'book', 'Thursday', 'imprisoned', 'one', 'of', 'their', 'top', 'men', 'inside', \"Poe's\", '\"The', 'Raven\",', 'and', 'it', 'seems', 'they', 'want', 'him', 'back.', 'This', 'a', 'potentially', 'interesting', 'plot,', 'but', 'it', 'keeps', 'get', 'lost', 'amidst', 'all', 'the', 'other', 'things', 'Fforde', 'throws', 'into', 'the', 'mix.', 'Most', 'notable', 'are', 'a', 'series', 'of', 'strange', 'coincidences', 'which', 'keep', 'coming', 'close', 'to', 'killing', 'Thursday', '(and', 'are', 'also', 'linked', 'to', 'events', 'in', 'the', 'first', 'book).', 'Another', 'plotline', 'concerns', 'the', 'discovery', 'of', 'a', '\"lost\"', 'Shakespeare', 'play,', 'which', 'looks', 'to', 'be', 'the', 'most', 'important', 'literary', 'event', 'of', 'the', 'century,', 'if', 'Thursday', 'can', 'authenticate', 'it.', \"There's\", 'also', 'the', 'small', 'matter', 'of', \"Thursday's\", 'pregnancy.', 'And', 'just', 'when', 'one', 'is', 'comfortable', 'with', \"Thursday's\", 'role', 'as', 'a', '\"SpecOps', 'Litratech\",', 'and', 'that', 'whole', 'milieu,', \"she's\", 'thrown', 'into', 'an', 'entirely', 'new']\n"
     ]
    }
   ],
   "source": [
    "# load text\n",
    "filename = 'negative.review'\n",
    "file = open(filename, 'rt')\n",
    "text = file.read()\n",
    "file.close()\n",
    "# split into words by white space\n",
    "words = text.split()\n",
    "print(words[:1000])"
   ]
  },
  {
   "cell_type": "code",
   "execution_count": 12,
   "metadata": {},
   "outputs": [
    {
     "ename": "NotADirectoryError",
     "evalue": "[WinError 267] The directory name is invalid: 'C:\\\\Users\\\\user\\\\Documents\\\\Assignments_Study_materials\\\\Assignments\\\\MBIS\\\\IS503\\\\assessment_3\\\\main\\\\NLP\\\\assessment_data\\\\sorted_data_acl\\\\books\\\\negative.review'",
     "output_type": "error",
     "traceback": [
      "\u001b[1;31m---------------------------------------------------------------------------\u001b[0m",
      "\u001b[1;31mNotADirectoryError\u001b[0m                        Traceback (most recent call last)",
      "\u001b[1;32m<ipython-input-12-687322b5e363>\u001b[0m in \u001b[0;36m<module>\u001b[1;34m\u001b[0m\n\u001b[1;32m----> 1\u001b[1;33m \u001b[0mmovie_train\u001b[0m \u001b[1;33m=\u001b[0m \u001b[0mload_files\u001b[0m\u001b[1;33m(\u001b[0m\u001b[0mreviewdir\u001b[0m\u001b[1;33m,\u001b[0m \u001b[0mshuffle\u001b[0m\u001b[1;33m=\u001b[0m\u001b[1;32mTrue\u001b[0m\u001b[1;33m)\u001b[0m\u001b[1;33m\u001b[0m\u001b[1;33m\u001b[0m\u001b[0m\n\u001b[0m",
      "\u001b[1;32m~\\anaconda3\\lib\\site-packages\\sklearn\\utils\\validation.py\u001b[0m in \u001b[0;36minner_f\u001b[1;34m(*args, **kwargs)\u001b[0m\n\u001b[0;32m     70\u001b[0m                           FutureWarning)\n\u001b[0;32m     71\u001b[0m         \u001b[0mkwargs\u001b[0m\u001b[1;33m.\u001b[0m\u001b[0mupdate\u001b[0m\u001b[1;33m(\u001b[0m\u001b[1;33m{\u001b[0m\u001b[0mk\u001b[0m\u001b[1;33m:\u001b[0m \u001b[0marg\u001b[0m \u001b[1;32mfor\u001b[0m \u001b[0mk\u001b[0m\u001b[1;33m,\u001b[0m \u001b[0marg\u001b[0m \u001b[1;32min\u001b[0m \u001b[0mzip\u001b[0m\u001b[1;33m(\u001b[0m\u001b[0msig\u001b[0m\u001b[1;33m.\u001b[0m\u001b[0mparameters\u001b[0m\u001b[1;33m,\u001b[0m \u001b[0margs\u001b[0m\u001b[1;33m)\u001b[0m\u001b[1;33m}\u001b[0m\u001b[1;33m)\u001b[0m\u001b[1;33m\u001b[0m\u001b[1;33m\u001b[0m\u001b[0m\n\u001b[1;32m---> 72\u001b[1;33m         \u001b[1;32mreturn\u001b[0m \u001b[0mf\u001b[0m\u001b[1;33m(\u001b[0m\u001b[1;33m**\u001b[0m\u001b[0mkwargs\u001b[0m\u001b[1;33m)\u001b[0m\u001b[1;33m\u001b[0m\u001b[1;33m\u001b[0m\u001b[0m\n\u001b[0m\u001b[0;32m     73\u001b[0m     \u001b[1;32mreturn\u001b[0m \u001b[0minner_f\u001b[0m\u001b[1;33m\u001b[0m\u001b[1;33m\u001b[0m\u001b[0m\n\u001b[0;32m     74\u001b[0m \u001b[1;33m\u001b[0m\u001b[0m\n",
      "\u001b[1;32m~\\anaconda3\\lib\\site-packages\\sklearn\\datasets\\_base.py\u001b[0m in \u001b[0;36mload_files\u001b[1;34m(container_path, description, categories, load_content, shuffle, encoding, decode_error, random_state)\u001b[0m\n\u001b[0;32m    184\u001b[0m     \u001b[0mfilenames\u001b[0m \u001b[1;33m=\u001b[0m \u001b[1;33m[\u001b[0m\u001b[1;33m]\u001b[0m\u001b[1;33m\u001b[0m\u001b[1;33m\u001b[0m\u001b[0m\n\u001b[0;32m    185\u001b[0m \u001b[1;33m\u001b[0m\u001b[0m\n\u001b[1;32m--> 186\u001b[1;33m     folders = [f for f in sorted(listdir(container_path))\n\u001b[0m\u001b[0;32m    187\u001b[0m                if isdir(join(container_path, f))]\n\u001b[0;32m    188\u001b[0m \u001b[1;33m\u001b[0m\u001b[0m\n",
      "\u001b[1;31mNotADirectoryError\u001b[0m: [WinError 267] The directory name is invalid: 'C:\\\\Users\\\\user\\\\Documents\\\\Assignments_Study_materials\\\\Assignments\\\\MBIS\\\\IS503\\\\assessment_3\\\\main\\\\NLP\\\\assessment_data\\\\sorted_data_acl\\\\books\\\\negative.review'"
     ]
    }
   ],
   "source": []
  },
  {
   "cell_type": "code",
   "execution_count": null,
   "metadata": {},
   "outputs": [],
   "source": []
  }
 ],
 "metadata": {
  "kernelspec": {
   "display_name": "Python 3",
   "language": "python",
   "name": "python3"
  },
  "language_info": {
   "codemirror_mode": {
    "name": "ipython",
    "version": 3
   },
   "file_extension": ".py",
   "mimetype": "text/x-python",
   "name": "python",
   "nbconvert_exporter": "python",
   "pygments_lexer": "ipython3",
   "version": "3.8.5"
  }
 },
 "nbformat": 4,
 "nbformat_minor": 4
}
