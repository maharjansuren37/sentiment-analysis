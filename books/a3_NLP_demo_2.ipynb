{
 "cells": [
  {
   "cell_type": "code",
   "execution_count": 1,
   "metadata": {},
   "outputs": [],
   "source": [
    "# load text\n",
    "\n",
    "filename = 'negative.review'\n",
    "\n",
    "file = open(filename, 'rt')\n",
    "\n",
    "text = file.read()\n",
    "\n",
    "file.close()"
   ]
  },
  {
   "cell_type": "code",
   "execution_count": 2,
   "metadata": {},
   "outputs": [
    {
     "name": "stdout",
     "output_type": "stream",
     "text": [
      "['', 'review', 'unique_id', '0312355645', 'horrible_book', '_horrible', 'mark_gospri', 'unique_id', 'asin', '0312355645', 'asin', 'product_name', 'Running', 'with', 'Scissors', 'A', 'Memoir', 'Books', 'Augusten', 'Burroughs', 'product_name', 'product_type', 'books', 'product_type', 'helpful', '4', 'of', '9', 'helpful', 'rating', '1', '0', 'rating', 'title', 'Horrible', 'book', 'horrible', 'title', 'date', 'November', '14', '2006', 'date', 'reviewer', 'Mark', 'Gospri', 'reviewer', 'reviewer_location', 'reviewer_location', 'review_text', 'THis', 'book', 'was', 'horrible', 'If', 'it', 'was', 'possible', 'to', 'rate', 'it', 'lower', 'than', 'one', 'star', 'i', 'would', 'have', 'I', 'am', 'an', 'avid', 'reader', 'and', 'picked', 'this', 'book', 'up', 'after', 'my', 'mom', 'had', 'gotten', 'it', 'from', 'a', 'friend', 'I', 'read', 'half', 'of', 'it', 'suffering', 'from', 'a', 'headache', 'the', 'entire', 'time', 'and', 'then', 'got', 'to', 'the', 'part', 'about', 'the', 'relationship', 'the', '13', 'year', 'old', 'boy', 'had', 'with', 'a', '33', 'year', 'old', 'man', 'and', 'i', 'lit', 'this', 'book', 'on', 'fire', 'One', 'less', 'copy', 'in', 'the', 'world', 'don', 't', 'waste', 'your', 'money', 'I', 'wish', 'i', 'had', 'the', 'time', 'spent', 'reading', 'this', 'book', 'back', 'so', 'i', 'could', 'use', 'it', 'for', 'better', 'purposes', 'THis', 'book', 'wasted', 'my', 'life', 'review_text', 'review', 'review', 'unique_id', '1559278676', 'shallow_self', 'indulgence', 'joseph_s', '_perrott_', 'avid_reader', 'unique_id', 'asin', '1559278676', 'asin', 'product_name', 'Running', 'with', 'Scissors', 'A', 'Memoir', 'Books', 'Augusten', 'Burroughs', 'product_name', 'product_type', 'books', 'product_type', 'helpful', '1', 'of', '6', 'helpful', 'rating', '1', '0', 'rating', 'title', 'shallow', 'self', 'indulgence', 'title', 'date', 'November', '15', '2006', 'date', 'reviewer', 'Joseph', 'S', 'Perrott', 'avid', 'reader', 'reviewer', 'reviewer_location', 'philadelphia', 'pa', 'United', 'States', 'reviewer_location', 'review_text', 'I', 'like', 'to', 'use', 'the', 'Amazon', 'reviews', 'when', 'purchasing', 'books', 'especially', 'alert', 'for', 'dissenting', 'perceptions', 'about', 'higly', 'rated', 'items', 'which', 'usually', 'disuades', 'me', 'from', 'a', 'selection', 'So', 'I', 'offer', 'this', 'review', 'that', 'seriously', 'questions', 'the', 'popularity', 'of', 'this', 'work', 'I', 'found', 'it', 'smug', 'self', 'serving', 'and', 'self', 'indulgent', 'written', 'by', 'a', 'person', 'with', 'little', 'or', 'no', 'empathy', 'especially', 'for', 'the', 'people', 'he', 'castigates', 'For', 'example', 'his', 'portrayal', 'of', 'the', 'family', 'therapist', 'seems', 'implausible', 'and', 'reaches', 'for', 'effect', 'and', 'panders', 'to', 'the', 'shrink', 'bashers', 'of', 'the', 'world', 'This', 'play', 'for', 'effect', 'tone', 'throughout', 'the', 'book', 'was', 'very', 'distasteful', 'to', 'me', 'review_text', 'review', 'review', 'unique_id', '1559278676', 'horrible_book', '_horrible', 'mark_gospri', 'unique_id', 'asin', '1559278676', 'asin', 'product_name', 'Running', 'with', 'Scissors', 'A', 'Memoir', 'Books', 'Augusten', 'Burroughs', 'product_name', 'product_type', 'books', 'product_type', 'helpful', '4', 'of', '9', 'helpful', 'rating', '1', '0', 'rating', 'title', 'Horrible', 'book', 'horrible', 'title', 'date', 'November', '14', '2006', 'date', 'reviewer', 'Mark', 'Gospri', 'reviewer', 'reviewer_location', 'reviewer_location', 'review_text', 'THis', 'book', 'was', 'horrible', 'If', 'it', 'was', 'possible', 'to', 'rate', 'it', 'lower', 'than', 'one', 'star', 'i', 'would', 'have', 'I', 'am', 'an', 'avid', 'reader', 'and', 'picked', 'this', 'book', 'up', 'after', 'my', 'mom', 'had', 'gotten', 'it', 'from', 'a', 'friend', 'I', 'read', 'half', 'of', 'it', 'suffering', 'from', 'a', 'headache', 'the', 'entire', 'time', 'and', 'then', 'got', 'to', 'the', 'part', 'about', 'the', 'relationship', 'the', '13', 'year', 'old', 'boy', 'had', 'with', 'a', '33', 'year', 'old', 'man', 'and', 'i', 'lit', 'this', 'book', 'on', 'fire', 'One', 'less', 'copy', 'in', 'the', 'world', 'don', 't', 'waste', 'your', 'money', 'I', 'wish', 'i', 'had', 'the', 'time', 'spent', 'reading', 'this', 'book', 'back', 'so', 'i', 'could', 'use', 'it', 'for', 'better', 'purposes', 'THis', 'book', 'wasted', 'my', 'life', 'review_text', 'review', 'review', 'unique_id', '0425193373', 'disappointment', 'reader_', 'reader', 'unique_id', 'asin', '0425193373', 'asin', 'product_name', 'Fierce', 'Conversations', 'Achieving', 'Sucess', 'at', 'Work', 'and', 'in', 'Life', 'One', 'Conversation', 'at', 'a', 'Time', 'Books', 'Susan', 'Scott', 'product_name', 'product_type', 'books', 'product_type', 'helpful', '10', 'of', '13', 'helpful', 'rating', '1', '0', 'rating', 'title', 'Disappointment', 'title', 'date', 'March', '13', '2006', 'date', 'reviewer', 'Reader', 'Reader', 'reviewer', 'reviewer_location', 'reviewer_location', 'review_text', 'I', 'm', 'not', 'sure', 'who', 's', 'writing', 'these', 'reviews', 'but', 'I', 'read', 'repitition', 'after', 'repitition', 'after', 'repitition', 'with', 'a', 'lot', 'of', 'confusing', 'fluff', 'Asking', 'hard', 'questions', 'to', 'solve', 'complex', 'or', 'simple', 'issues', 'What', 's', 'fierce', 'about', 'that', 'The', 'writing', 'style', 'and', 'content', 'just', 'didn', 't', 'flow', 'Wasn', 't', 'real', 'I', 'mean', 'in', 'one', 'section', 'she', 'actually', 'uses', 'the', 'term', 'bucko', 'as', 'in', 'Let', 'me', 'tell', 'you', 'something', 'bucko', 'What', 'are', 'we', 'in', 'Happy', 'Days', 'Couldn', 't', 'take', 'the', 'book', 'seriously', 'after', 'that', 'Very', 'bad', 'review_text', 'review', 'review', 'unique_id', '0142004030', 'a_disappointing_mess', 'a', '_ross', 'unique_id', 'asin', '0142004030', 'asin', 'product_name', 'Lost', 'in', 'a', 'Good', 'Book', 'Thursday', 'Next', 'Novels', 'Books', 'Jasper', 'Fforde', 'product_name', 'product_type', 'books', 'product_type', 'helpful', '6', 'of', '7', 'helpful', 'rating', '2', '0', 'rating', 'title', 'A', 'Disappointing', 'Mess', 'title', 'date', 'May', '17', '2006', 'date', 'reviewer', 'A', 'Ross', 'reviewer', 'reviewer_location', 'Washington', 'DC', 'reviewer_location', 'review_text', 'I', 'picked', 'up', 'the', 'first', 'book', 'in', 'this', 'series', 'The', 'Eyre', 'Affair', 'based', 'purely', 'on', 'its', 'premise', 'and', 'was', 'left', 'somewhat', 'underwhelmed', 'Still', 'the', 'potential', 'for', 'the', 'series', 'seemed', 'so', 'large', 'that', 'I', 'went', 'ahead', 'and', 'read', 'this', 'second', 'one', 'too', 'only', 'to', 'be', 'even', 'less', 'enchanted', 'with', 'the', 'franchise', 'This', 'is', 'a', 'pure', 'sequel', 'and', 'any', 'newcomers', 'are', 'advised', 'to', 'read', 'the', 'misadventures', 'of', 'Thursday', 'Next', 'is', 'strict', 'order', 'lest', 'one', 'miss', 'out', 'of', 'allusions', 'to', 'past', 'events', 'Although', 'on', 'further', 'consideration', 'maybe', 'it', 'doesn', 't', 'matter', 'since', 'clearly', 'anything', 'can', 'and', 'will', 'happen', 'in', 'this', 'series', 'and', 'Fforde', 'isn', 't', 'all', 'that', 'interested', 'in', 'keeping', 'to', 'a', 'linear', 'plotline', 'anyway', 'The', 'setting', 'is', 'the', 'same', 'as', 'the', 'first', 'book', 'an', 'alternate', 'mid', '1980s', 'England', 'in', 'which', 'literature', 'is', 'the', 'preeminent', 'social', 'preoccupation', 'Fresh', 'off', 'the', 'events', 'of', 'The', 'Eyre', 'Affair', 'Thursday', 'Next', 'a', 'police', 'officer', 'specializing', 'in', 'literature', 'related', 'crimes', 'such', 'as', 'first', 'edition', 'forgeries', 'valuable', 'manuscript', 'thefts', 'and', 'the', 'like', 'is', 'gritting', 'her', 'teeth', 'through', 'a', 'new', 'round', 'of', 'fame', 'as', 'the', 'woman', 'who', 'saved', 'Jane', 'Eyre', 'and', 'changed', 'the', 'ending', 'for', 'the', 'better', 'when', 'all', 'she', 'wants', 'to', 'do', 'is', 'cuddle', 'up', 'at', 'home', 'with', 'her', 'new', 'husband', 'Landen', 'Unfortunately', 'the', 'evil', 'Goliath', 'Corporation', 'has', 'managed', 'to', 'use', 'a', 'corrupt', 'member', 'of', 'the', 'Chronogaurd', 'timestream', 'police', 'to', 'delete', 'Landen', 'from', 'this', 'timeline', 'and', 'are', 'holding', 'his', 'existence', 'hostage', 'In', 'the', 'first', 'book', 'Thursday', 'imprisoned', 'one', 'of', 'their', 'top', 'men', 'inside', 'Poe', 's', 'The', 'Raven', 'and', 'it', 'seems', 'they', 'want', 'him', 'back', 'This', 'a', 'potentially', 'interesting', 'plot', 'but', 'it', 'keeps', 'get', 'lost', 'amidst', 'all', 'the', 'other', 'things', 'Fforde', 'throws', 'into', 'the', 'mix', 'Most', 'notable', 'are', 'a', 'series', 'of', 'strange', 'coincidences', 'which', 'keep', 'coming', 'close', 'to', 'killing', 'Thursday', 'and', 'are', 'also', 'linked', 'to', 'events', 'in', 'the', 'first', 'book', 'Another', 'plotline', 'concerns', 'the', 'discovery', 'of', 'a', 'lost', 'Shakespeare', 'play', 'which', 'looks', 'to', 'be', 'the', 'most', 'important', 'literary']\n"
     ]
    }
   ],
   "source": [
    "# split based on words only\n",
    "\n",
    "import re\n",
    "\n",
    "words = re.split(r'\\W+', text)\n",
    "\n",
    "print(words[:1000])"
   ]
  },
  {
   "cell_type": "code",
   "execution_count": 3,
   "metadata": {},
   "outputs": [
    {
     "name": "stdout",
     "output_type": "stream",
     "text": [
      "!\"#$%&'()*+,-./:;<=>?@[\\]^_`{|}~\n"
     ]
    }
   ],
   "source": [
    "import string\n",
    "\n",
    "print(string.punctuation)"
   ]
  },
  {
   "cell_type": "code",
   "execution_count": 4,
   "metadata": {},
   "outputs": [],
   "source": [
    "table = str.maketrans('', '', string.punctuation)"
   ]
  },
  {
   "cell_type": "code",
   "execution_count": 5,
   "metadata": {},
   "outputs": [
    {
     "name": "stdout",
     "output_type": "stream",
     "text": [
      "['review', 'uniqueid', '0312355645horriblebookhorriblemarkgospri', 'uniqueid', 'asin', '0312355645', 'asin', 'productname', 'Running', 'with', 'Scissors', 'A', 'Memoir', 'Books', 'Augusten', 'Burroughs', 'productname', 'producttype', 'books', 'producttype', 'helpful', '4', 'of', '9', 'helpful', 'rating', '10', 'rating', 'title', 'Horrible', 'book', 'horrible', 'title', 'date', 'November', '14', '2006', 'date', 'reviewer', 'Mark', 'Gospri', 'reviewer', 'reviewerlocation', 'reviewerlocation', 'reviewtext', 'THis', 'book', 'was', 'horrible', 'If', 'it', 'was', 'possible', 'to', 'rate', 'it', 'lower', 'than', 'one', 'star', 'i', 'would', 'have', 'I', 'am', 'an', 'avid', 'reader', 'and', 'picked', 'this', 'book', 'up', 'after', 'my', 'mom', 'had', 'gotten', 'it', 'from', 'a', 'friend', 'I', 'read', 'half', 'of', 'it', 'suffering', 'from', 'a', 'headache', 'the', 'entire', 'time', 'and', 'then', 'got', 'to', 'the', 'part', 'about', 'the', 'relationship', 'the', '13', 'year', 'old', 'boy', 'had', 'with', 'a', '33', 'year', 'old', 'man', 'and', 'i', 'lit', 'this', 'book', 'on', 'fire', 'One', 'less', 'copy', 'in', 'the', 'worlddont', 'waste', 'your', 'money', 'I', 'wish', 'i', 'had', 'the', 'time', 'spent', 'reading', 'this', 'book', 'back', 'so', 'i', 'could', 'use', 'it', 'for', 'better', 'purposes', 'THis', 'book', 'wasted', 'my', 'life', 'reviewtext', 'review', 'review', 'uniqueid', '1559278676shallowselfindulgencejosephsperrottavidreader', 'uniqueid', 'asin', '1559278676', 'asin', 'productname', 'Running', 'with', 'Scissors', 'A', 'Memoir', 'Books', 'Augusten', 'Burroughs', 'productname', 'producttype', 'books', 'producttype', 'helpful', '1', 'of', '6', 'helpful', 'rating', '10', 'rating', 'title', 'shallow', 'selfindulgence', 'title', 'date', 'November', '15', '2006', 'date', 'reviewer', 'Joseph', 'S', 'Perrott', 'avid', 'reader', 'reviewer', 'reviewerlocation', 'philadelphia', 'pa', 'United', 'States', 'reviewerlocation', 'reviewtext', 'I', 'like', 'to', 'use', 'the', 'Amazon', 'reviews', 'when', 'purchasing', 'books', 'especially', 'alert', 'for', 'dissenting', 'perceptions', 'about', 'higly', 'rated', 'items', 'which', 'usually', 'disuades', 'me', 'from', 'a', 'selection', 'So', 'I', 'offer', 'this', 'review', 'that', 'seriously', 'questions', 'the', 'popularity', 'of', 'this', 'work', '', 'I', 'found', 'it', 'smug', 'selfserving', 'and', 'selfindulgent', 'written', 'by', 'a', 'person', 'with', 'little', 'or', 'no', 'empathy', 'especially', 'for', 'the', 'people', 'he', 'castigates', 'For', 'example', 'his', 'portrayal', 'of', 'the', 'family', 'therapist', 'seems', 'implausible', 'and', 'reaches', 'for', 'effect', 'and', 'panders', 'to', 'the', 'shrink', 'bashers', 'of', 'the', 'world', 'This', 'play', 'for', 'effect', 'tone', 'throughout', 'the', 'book', 'was', 'very', 'distasteful', 'to', 'me', 'reviewtext', 'review', 'review', 'uniqueid', '1559278676horriblebookhorriblemarkgospri', 'uniqueid', 'asin', '1559278676', 'asin', 'productname', 'Running', 'with', 'Scissors', 'A', 'Memoir', 'Books', 'Augusten', 'Burroughs', 'productname', 'producttype', 'books', 'producttype', 'helpful', '4', 'of', '9', 'helpful', 'rating', '10', 'rating', 'title', 'Horrible', 'book', 'horrible', 'title', 'date', 'November', '14', '2006', 'date', 'reviewer', 'Mark', 'Gospri', 'reviewer', 'reviewerlocation', 'reviewerlocation', 'reviewtext', 'THis', 'book', 'was', 'horrible', 'If', 'it', 'was', 'possible', 'to', 'rate', 'it', 'lower', 'than', 'one', 'star', 'i', 'would', 'have', 'I', 'am', 'an', 'avid', 'reader', 'and', 'picked', 'this', 'book', 'up', 'after', 'my', 'mom', 'had', 'gotten', 'it', 'from', 'a', 'friend', 'I', 'read', 'half', 'of', 'it', 'suffering', 'from', 'a', 'headache', 'the', 'entire', 'time', 'and', 'then', 'got', 'to', 'the', 'part', 'about', 'the', 'relationship', 'the', '13', 'year', 'old', 'boy', 'had', 'with', 'a', '33', 'year', 'old', 'man', 'and', 'i', 'lit', 'this', 'book', 'on', 'fire', 'One', 'less', 'copy', 'in', 'the', 'worlddont', 'waste', 'your', 'money', 'I', 'wish', 'i', 'had', 'the', 'time', 'spent', 'reading', 'this', 'book', 'back', 'so', 'i', 'could', 'use', 'it', 'for', 'better', 'purposes', 'THis', 'book', 'wasted', 'my', 'life', 'reviewtext', 'review', 'review', 'uniqueid', '0425193373disappointmentreaderreader', 'uniqueid', 'asin', '0425193373', 'asin', 'productname', 'Fierce', 'Conversations', 'Achieving', 'Sucess', 'at', 'Work', 'and', 'in', 'Life', 'One', 'Conversation', 'at', 'a', 'Time', 'Books', 'Susan', 'Scott', 'productname', 'producttype', 'books', 'producttype', 'helpful', '10', 'of', '13', 'helpful', 'rating', '10', 'rating', 'title', 'Disappointment', 'title', 'date', 'March', '13', '2006', 'date', 'reviewer', 'Reader', 'Reader', 'reviewer', 'reviewerlocation', 'reviewerlocation', 'reviewtext', 'Im', 'not', 'sure', 'whos', 'writing', 'these', 'reviews', 'but', 'I', 'read', 'repitition', 'after', 'repitition', 'after', 'repitition', 'with', 'a', 'lot', 'of', 'confusing', 'fluff', 'Asking', 'hard', 'questions', 'to', 'solve', 'complex', 'or', 'simple', 'issues', 'Whats', 'fierce', 'about', 'that', 'The', 'writing', 'style', 'and', 'content', 'just', 'didnt', 'flow', 'Wasnt', 'real', 'I', 'mean', 'in', 'one', 'section', 'she', 'actually', 'uses', 'the', 'term', 'bucko', 'as', 'in', 'Let', 'me', 'tell', 'you', 'something', 'bucko', 'What', 'are', 'we', 'in', 'Happy', 'Days', 'Couldnt', 'take', 'the', 'book', 'seriously', 'after', 'that', 'Very', 'bad', 'reviewtext', 'review', 'review', 'uniqueid', '0142004030adisappointingmessaross', 'uniqueid', 'asin', '0142004030', 'asin', 'productname', 'Lost', 'in', 'a', 'Good', 'Book', 'Thursday', 'Next', 'Novels', 'Books', 'Jasper', 'Fforde', 'productname', 'producttype', 'books', 'producttype', 'helpful', '6', 'of', '7', 'helpful', 'rating', '20', 'rating', 'title', 'A', 'Disappointing', 'Mess', 'title', 'date', 'May', '17', '2006', 'date', 'reviewer', 'A', 'Ross', 'reviewer', 'reviewerlocation', 'Washington', 'DC', 'reviewerlocation', 'reviewtext', 'I', 'picked', 'up', 'the', 'first', 'book', 'in', 'this', 'series', 'The', 'Eyre', 'Affair', 'based', 'purely', 'on', 'its', 'premise', 'and', 'was', 'left', 'somewhat', 'underwhelmed', 'Still', 'the', 'potential', 'for', 'the', 'series', 'seemed', 'so', 'large', 'that', 'I', 'went', 'ahead', 'and', 'read', 'this', 'second', 'one', 'too', 'only', 'to', 'be', 'even', 'less', 'enchanted', 'with', 'the', 'franchise', 'This', 'is', 'a', 'pure', 'sequel', 'and', 'any', 'newcomers', 'are', 'advised', 'to', 'read', 'the', 'misadventures', 'of', 'Thursday', 'Next', 'is', 'strict', 'order', 'lest', 'one', 'miss', 'out', 'of', 'allusions', 'to', 'past', 'events', 'Although', 'on', 'further', 'consideration', 'maybe', 'it', 'doesnt', 'matter', 'since', 'clearly', 'anything', 'can', 'and', 'will', 'happen', 'in', 'this', 'series', 'and', 'Fforde', 'isnt', 'all', 'that', 'interested', 'in', 'keeping', 'to', 'a', 'linear', 'plotline', 'anyway', 'The', 'setting', 'is', 'the', 'same', 'as', 'the', 'first', 'book', 'an', 'alternate', 'mid1980s', 'England', 'in', 'which', 'literature', 'is', 'the', 'preeminent', 'social', 'preoccupation', 'Fresh', 'off', 'the', 'events', 'of', 'The', 'Eyre', 'Affair', 'Thursday', 'Next', 'a', 'police', 'officer', 'specializing', 'in', 'literature', 'related', 'crimes', 'such', 'as', 'firstedition', 'forgeries', 'valuable', 'manuscript', 'thefts', 'and', 'the', 'like', 'is', 'gritting', 'her', 'teeth', 'through', 'a', 'new', 'round', 'of', 'fame', 'as', 'the', 'woman', 'who', 'saved', 'Jane', 'Eyre', 'and', 'changed', 'the', 'ending', 'for', 'the', 'better', 'when', 'all', 'she', 'wants', 'to', 'do', 'is', 'cuddle', 'up', 'at', 'home', 'with', 'her', 'new', 'husband', 'Landen', 'Unfortunately', 'the', 'evil', 'Goliath', 'Corporation', 'has', 'managed', 'to', 'use', 'a', 'corrupt', 'member', 'of', 'the', 'Chronogaurd', 'timestream', 'police', 'to', 'delete', 'Landen', 'from', 'this', 'timeline', 'and', 'are', 'holding', 'his', 'existence', 'hostage', 'In', 'the', 'first', 'book', 'Thursday', 'imprisoned', 'one', 'of', 'their', 'top', 'men', 'inside', 'Poes', 'The', 'Raven', 'and', 'it', 'seems', 'they', 'want', 'him', 'back', 'This', 'a', 'potentially', 'interesting', 'plot', 'but', 'it', 'keeps', 'get', 'lost', 'amidst', 'all', 'the', 'other', 'things', 'Fforde', 'throws', 'into', 'the', 'mix', 'Most', 'notable', 'are', 'a', 'series', 'of', 'strange', 'coincidences', 'which', 'keep', 'coming', 'close', 'to', 'killing', 'Thursday', 'and', 'are', 'also', 'linked', 'to', 'events', 'in', 'the', 'first', 'book', 'Another', 'plotline', 'concerns', 'the', 'discovery', 'of', 'a', 'lost', 'Shakespeare', 'play', 'which', 'looks', 'to', 'be', 'the', 'most', 'important', 'literary', 'event', 'of', 'the', 'century', 'if', 'Thursday', 'can', 'authenticate', 'it', 'Theres', 'also', 'the', 'small', 'matter', 'of', 'Thursdays', 'pregnancy', 'And', 'just', 'when', 'one', 'is', 'comfortable', 'with', 'Thursdays', 'role', 'as', 'a', 'SpecOps', 'Litratech', 'and', 'that', 'whole', 'milieu', 'shes', 'thrown', 'into', 'an', 'entirely', 'new']\n"
     ]
    }
   ],
   "source": [
    "# split into words by white space\n",
    "\n",
    "words = text.split()\n",
    "\n",
    "# remove punctuation from each word\n",
    "\n",
    "import string\n",
    "\n",
    "table = str.maketrans('', '', string.punctuation)\n",
    "\n",
    "stripped = [w.translate(table) for w in words]\n",
    "\n",
    "print(stripped[:1000])"
   ]
  },
  {
   "cell_type": "code",
   "execution_count": 6,
   "metadata": {},
   "outputs": [
    {
     "name": "stdout",
     "output_type": "stream",
     "text": [
      "['<review>', '<unique_id>', '0312355645:horrible_book,_horrible.:mark_gospri', '</unique_id>', '<asin>', '0312355645', '</asin>', '<product_name>', 'running', 'with', 'scissors:', 'a', 'memoir:', 'books:', 'augusten', 'burroughs', '</product_name>', '<product_type>', 'books', '</product_type>', '<helpful>', '4', 'of', '9', '</helpful>', '<rating>', '1.0', '</rating>', '<title>', 'horrible', 'book,', 'horrible.', '</title>', '<date>', 'november', '14,', '2006', '</date>', '<reviewer>', 'mark', 'gospri', '</reviewer>', '<reviewer_location>', '</reviewer_location>', '<review_text>', 'this', 'book', 'was', 'horrible.', 'if', 'it', 'was', 'possible', 'to', 'rate', 'it', 'lower', 'than', 'one', 'star', 'i', 'would', 'have.', 'i', 'am', 'an', 'avid', 'reader', 'and', 'picked', 'this', 'book', 'up', 'after', 'my', 'mom', 'had', 'gotten', 'it', 'from', 'a', 'friend.', 'i', 'read', 'half', 'of', 'it,', 'suffering', 'from', 'a', 'headache', 'the', 'entire', 'time,', 'and', 'then', 'got', 'to', 'the', 'part', 'about', 'the', 'relationship', 'the', '13', 'year', 'old', 'boy', 'had', 'with', 'a', '33', 'year', 'old', 'man', 'and', 'i', 'lit', 'this', 'book', 'on', 'fire.', 'one', 'less', 'copy', 'in', 'the', \"world...don't\", 'waste', 'your', 'money.', 'i', 'wish', 'i', 'had', 'the', 'time', 'spent', 'reading', 'this', 'book', 'back', 'so', 'i', 'could', 'use', 'it', 'for', 'better', 'purposes.', 'this', 'book', 'wasted', 'my', 'life', '</review_text>', '</review>', '<review>', '<unique_id>', '1559278676:shallow_self-indulgence:joseph_s._perrott_\"avid_reader\"', '</unique_id>', '<asin>', '1559278676', '</asin>', '<product_name>', 'running', 'with', 'scissors:', 'a', 'memoir:', 'books:', 'augusten', 'burroughs', '</product_name>', '<product_type>', 'books', '</product_type>', '<helpful>', '1', 'of', '6', '</helpful>', '<rating>', '1.0', '</rating>', '<title>', 'shallow', 'self-indulgence', '</title>', '<date>', 'november', '15,', '2006', '</date>', '<reviewer>', 'joseph', 's.', 'perrott', '\"avid', 'reader\"', '</reviewer>', '<reviewer_location>', 'philadelphia,', 'pa.', 'united', 'states', '</reviewer_location>', '<review_text>', 'i', 'like', 'to', 'use', 'the', 'amazon', 'reviews', 'when', 'purchasing', 'books,', 'especially', 'alert', 'for', 'dissenting', 'perceptions', 'about', 'higly', 'rated', 'items,', 'which', 'usually', 'disuades', 'me', 'from', 'a', 'selection.', 'so', 'i', 'offer', 'this', 'review', 'that', 'seriously', 'questions', 'the', 'popularity', 'of', 'this', 'work', '-', 'i', 'found', 'it', 'smug,', 'self-serving', 'and', 'self-indulgent,', 'written', 'by', 'a', 'person', 'with', 'little', 'or', 'no', 'empathy,', 'especially', 'for', 'the', 'people', 'he', 'castigates.', 'for', 'example,', 'his', 'portrayal', 'of', 'the', 'family', 'therapist', 'seems', 'implausible', 'and', 'reaches', 'for', 'effect', 'and', 'panders', 'to', 'the', '\"shrink\"', 'bashers', 'of', 'the', 'world.', 'this', '\"play', 'for', 'effect\"', 'tone', 'throughout', 'the', 'book', 'was', 'very', 'distasteful', 'to', 'me', '</review_text>', '</review>', '<review>', '<unique_id>', '1559278676:horrible_book,_horrible.:mark_gospri', '</unique_id>', '<asin>', '1559278676', '</asin>', '<product_name>', 'running', 'with', 'scissors:', 'a', 'memoir:', 'books:', 'augusten', 'burroughs', '</product_name>', '<product_type>', 'books', '</product_type>', '<helpful>', '4', 'of', '9', '</helpful>', '<rating>', '1.0', '</rating>', '<title>', 'horrible', 'book,', 'horrible.', '</title>', '<date>', 'november', '14,', '2006', '</date>', '<reviewer>', 'mark', 'gospri', '</reviewer>', '<reviewer_location>', '</reviewer_location>', '<review_text>', 'this', 'book', 'was', 'horrible.', 'if', 'it', 'was', 'possible', 'to', 'rate', 'it', 'lower', 'than', 'one', 'star', 'i', 'would', 'have.', 'i', 'am', 'an', 'avid', 'reader', 'and', 'picked', 'this', 'book', 'up', 'after', 'my', 'mom', 'had', 'gotten', 'it', 'from', 'a', 'friend.', 'i', 'read', 'half', 'of', 'it,', 'suffering', 'from', 'a', 'headache', 'the', 'entire', 'time,', 'and', 'then', 'got', 'to', 'the', 'part', 'about', 'the', 'relationship', 'the', '13', 'year', 'old', 'boy', 'had', 'with', 'a', '33', 'year', 'old', 'man', 'and', 'i', 'lit', 'this', 'book', 'on', 'fire.', 'one', 'less', 'copy', 'in', 'the', \"world...don't\", 'waste', 'your', 'money.', 'i', 'wish', 'i', 'had', 'the', 'time', 'spent', 'reading', 'this', 'book', 'back', 'so', 'i', 'could', 'use', 'it', 'for', 'better', 'purposes.', 'this', 'book', 'wasted', 'my', 'life', '</review_text>', '</review>', '<review>', '<unique_id>', '0425193373:disappointment:reader_\"reader\"', '</unique_id>', '<asin>', '0425193373', '</asin>', '<product_name>', 'fierce', 'conversations:', 'achieving', 'sucess', 'at', 'work', 'and', 'in', 'life', 'one', 'conversation', 'at', 'a', 'time:', 'books:', 'susan', 'scott', '</product_name>', '<product_type>', 'books', '</product_type>', '<helpful>', '10', 'of', '13', '</helpful>', '<rating>', '1.0', '</rating>', '<title>', 'disappointment', '</title>', '<date>', 'march', '13,', '2006', '</date>', '<reviewer>', 'reader', '\"reader\"', '</reviewer>', '<reviewer_location>', '</reviewer_location>', '<review_text>', \"i'm\", 'not', 'sure', \"who's\", 'writing', 'these', 'reviews,', 'but', 'i', 'read', 'repitition', 'after', 'repitition', 'after', 'repitition,', 'with', 'a', 'lot', 'of', 'confusing', 'fluff.', 'asking', 'hard', 'questions', 'to', 'solve', 'complex', 'or', 'simple', 'issues.', \"what's\", '\"fierce\"', 'about', 'that?', 'the', 'writing', 'style', 'and', 'content', 'just', \"didn't\", 'flow.', \"wasn't\", 'real.', 'i', 'mean,', 'in', 'one', 'section,', 'she', 'actually', 'uses', 'the', 'term', '\"bucko,\"', 'as', 'in,', '\"let', 'me', 'tell', 'you', 'something,', 'bucko.\"', 'what', 'are', 'we', 'in', '\"happy', 'days?\"', \"couldn't\", 'take', 'the', 'book', 'seriously', 'after', 'that.', 'very', 'bad.', '</review_text>', '</review>', '<review>', '<unique_id>', '0142004030:a_disappointing_mess:a._ross', '</unique_id>', '<asin>', '0142004030', '</asin>', '<product_name>', 'lost', 'in', 'a', 'good', 'book', '(thursday', 'next', 'novels):', 'books:', 'jasper', 'fforde', '</product_name>', '<product_type>', 'books', '</product_type>', '<helpful>', '6', 'of', '7', '</helpful>', '<rating>', '2.0', '</rating>', '<title>', 'a', 'disappointing', 'mess', '</title>', '<date>', 'may', '17,', '2006', '</date>', '<reviewer>', 'a.', 'ross', '</reviewer>', '<reviewer_location>', 'washington,', 'dc', '</reviewer_location>', '<review_text>', 'i', 'picked', 'up', 'the', 'first', 'book', 'in', 'this', 'series', '(the', 'eyre', 'affair)', 'based', 'purely', 'on', 'its', 'premise', 'and', 'was', 'left', 'somewhat', 'underwhelmed.', 'still,', 'the', 'potential', 'for', 'the', 'series', 'seemed', 'so', 'large', 'that', 'i', 'went', 'ahead', 'and', 'read', 'this', 'second', 'one', 'too,', 'only', 'to', 'be', 'even', 'less', 'enchanted', 'with', 'the', 'franchise.', 'this', 'is', 'a', 'pure', 'sequel,', 'and', 'any', 'newcomers', 'are', 'advised', 'to', 'read', 'the', 'misadventures', 'of', 'thursday', 'next', 'is', 'strict', 'order,', 'lest', 'one', 'miss', 'out', 'of', 'allusions', 'to', 'past', 'events.', 'although...', 'on', 'further', 'consideration,', 'maybe', 'it', \"doesn't\", 'matter,', 'since', 'clearly', 'anything', 'can', 'and', 'will', 'happen', 'in', 'this', 'series,', 'and', 'fforde', \"isn't\", 'all', 'that', 'interested', 'in', 'keeping', 'to', 'a', 'linear', 'plotline', 'anyway.', 'the', 'setting', 'is', 'the', 'same', 'as', 'the', 'first', 'book,', 'an', 'alternate', 'mid-1980s', 'england', 'in', 'which', 'literature', 'is', 'the', 'preeminent', 'social', 'preoccupation.', 'fresh', 'off', 'the', 'events', 'of', '\"the', 'eyre', 'affair\",', 'thursday', 'next', '(a', 'police', 'officer', 'specializing', 'in', 'literature', 'related', 'crimes,', 'such', 'as', 'first-edition', 'forgeries,', 'valuable', 'manuscript', 'thefts,', 'and', 'the', 'like)', 'is', 'gritting', 'her', 'teeth', 'through', 'a', 'new', 'round', 'of', 'fame', 'as', 'the', 'woman', 'who', 'saved', 'jane', 'eyre', '(and', 'changed', 'the', 'ending', 'for', 'the', 'better),', 'when', 'all', 'she', 'wants', 'to', 'do', 'is', 'cuddle', 'up', 'at', 'home', 'with', 'her', 'new', 'husband', 'landen.', 'unfortunately,', 'the', 'evil', 'goliath', 'corporation', 'has', 'managed', 'to', 'use', 'a', 'corrupt', 'member', 'of', 'the', 'chronogaurd', '(timestream', 'police)', 'to', 'delete', 'landen', 'from', 'this', 'timeline', 'and', 'are', 'holding', 'his', 'existence', 'hostage.', 'in', 'the', 'first', 'book', 'thursday', 'imprisoned', 'one', 'of', 'their', 'top', 'men', 'inside', \"poe's\", '\"the', 'raven\",', 'and', 'it', 'seems', 'they', 'want', 'him', 'back.', 'this', 'a', 'potentially', 'interesting', 'plot,', 'but', 'it', 'keeps', 'get', 'lost', 'amidst', 'all', 'the', 'other', 'things', 'fforde', 'throws', 'into', 'the', 'mix.', 'most', 'notable', 'are', 'a', 'series', 'of', 'strange', 'coincidences', 'which', 'keep', 'coming', 'close', 'to', 'killing', 'thursday', '(and', 'are', 'also', 'linked', 'to', 'events', 'in', 'the', 'first', 'book).', 'another', 'plotline', 'concerns', 'the', 'discovery', 'of', 'a', '\"lost\"', 'shakespeare', 'play,', 'which', 'looks', 'to', 'be', 'the', 'most', 'important', 'literary', 'event', 'of', 'the', 'century,', 'if', 'thursday', 'can', 'authenticate', 'it.', \"there's\", 'also', 'the', 'small', 'matter', 'of', \"thursday's\", 'pregnancy.', 'and', 'just', 'when', 'one', 'is', 'comfortable', 'with', \"thursday's\", 'role', 'as', 'a', '\"specops', 'litratech\",', 'and', 'that', 'whole', 'milieu,', \"she's\", 'thrown', 'into', 'an', 'entirely', 'new']\n"
     ]
    }
   ],
   "source": [
    "# Normalizing case\n",
    "#It is commone to convert all words to one case. We can convert all words to lowercsae by calling the lower() function on each word.\n",
    "\n",
    "# split into words by white space\n",
    "\n",
    "words = text.split()\n",
    "\n",
    "# convert to lower case\n",
    "\n",
    "words = [word.lower() for word in words]\n",
    "\n",
    "print(words[:1000])"
   ]
  },
  {
   "cell_type": "code",
   "execution_count": null,
   "metadata": {},
   "outputs": [],
   "source": []
  }
 ],
 "metadata": {
  "kernelspec": {
   "display_name": "Python 3",
   "language": "python",
   "name": "python3"
  },
  "language_info": {
   "codemirror_mode": {
    "name": "ipython",
    "version": 3
   },
   "file_extension": ".py",
   "mimetype": "text/x-python",
   "name": "python",
   "nbconvert_exporter": "python",
   "pygments_lexer": "ipython3",
   "version": "3.8.5"
  }
 },
 "nbformat": 4,
 "nbformat_minor": 4
}
